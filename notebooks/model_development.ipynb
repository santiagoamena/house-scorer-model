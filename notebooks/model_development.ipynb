{
 "cells": [
  {
   "cell_type": "markdown",
   "metadata": {},
   "source": [
    "# House Model Development and Analysis"
   ]
  },
  {
   "cell_type": "markdown",
   "metadata": {},
   "source": [
    "<a id='contents' />\n",
    "\n",
    "### Table of contents\n",
    "\n",
    "1. [Introduction](#intro)\n",
    "2. [Model development](#development)\n",
    "4. [Model analysis](#analysis)"
   ]
  },
  {
   "cell_type": "markdown",
   "metadata": {},
   "source": [
    "<a id='intro' />\n",
    "\n",
    "### 1. Introduction"
   ]
  },
  {
   "cell_type": "markdown",
   "metadata": {},
   "source": [
    "The aim of this notebook is to develop a gradient boosting model to predict house sale prices based on the provided dataset \"challenge_houses-prices.csv\". \n",
    "\n",
    "In the first section, Model Development, we preprocess the data, split it into train and testing sets, and run a bayesian optimization on the training/validation sets in order to find the best hyperparameters for the model. Then we evaluate the model in the test set as measured by the mean absolute error. \n",
    "\n",
    "Finally, in the Model Analysis section, we take a look at the most important predictors and analyze how they impact on the houses sale prices."
   ]
  },
  {
   "cell_type": "markdown",
   "metadata": {},
   "source": [
    "<a id='development' />\n",
    "\n",
    "### 2. Model Development"
   ]
  },
  {
   "cell_type": "code",
   "execution_count": null,
   "metadata": {},
   "outputs": [],
   "source": [
    "import pandas as pd\n",
    "\n",
    "df = pd.read_csv(\"../challenge_houses-prices.csv\")"
   ]
  },
  {
   "cell_type": "code",
   "execution_count": 7,
   "metadata": {},
   "outputs": [],
   "source": [
    "import numpy as np\n",
    "import matplotlib.pyplot as plt\n",
    "from sklearn.model_selection import train_test_split\n",
    "from sklearn.metrics import mean_squared_error, mean_absolute_error\n",
    "from bayes_opt import BayesianOptimization, UtilityFunction\n",
    "import warnings\n",
    "warnings.filterwarnings(\"ignore\")"
   ]
  },
  {
   "cell_type": "code",
   "execution_count": 3,
   "metadata": {},
   "outputs": [
    {
     "data": {
      "text/html": [
       "<div>\n",
       "<style scoped>\n",
       "    .dataframe tbody tr th:only-of-type {\n",
       "        vertical-align: middle;\n",
       "    }\n",
       "\n",
       "    .dataframe tbody tr th {\n",
       "        vertical-align: top;\n",
       "    }\n",
       "\n",
       "    .dataframe thead th {\n",
       "        text-align: right;\n",
       "    }\n",
       "</style>\n",
       "<table border=\"1\" class=\"dataframe\">\n",
       "  <thead>\n",
       "    <tr style=\"text-align: right;\">\n",
       "      <th></th>\n",
       "      <th>property_area</th>\n",
       "      <th>house_age</th>\n",
       "      <th>house_style</th>\n",
       "      <th>neighborhood</th>\n",
       "      <th>overall_quality</th>\n",
       "      <th>overall_condition</th>\n",
       "      <th>spaciousness</th>\n",
       "      <th>liv_lot_ratio</th>\n",
       "      <th>remodel_age</th>\n",
       "      <th>bath_area</th>\n",
       "      <th>bsmt_area</th>\n",
       "      <th>garage_area</th>\n",
       "      <th>garage_age</th>\n",
       "      <th>has_2ndfloor</th>\n",
       "      <th>has_porch</th>\n",
       "      <th>has_pool</th>\n",
       "      <th>has_multiple_kitchen</th>\n",
       "      <th>sale_price</th>\n",
       "    </tr>\n",
       "  </thead>\n",
       "  <tbody>\n",
       "    <tr>\n",
       "      <th>0</th>\n",
       "      <td>2501</td>\n",
       "      <td>12</td>\n",
       "      <td>2Story</td>\n",
       "      <td>Gilbert</td>\n",
       "      <td>6</td>\n",
       "      <td>5</td>\n",
       "      <td>207.0</td>\n",
       "      <td>0.0</td>\n",
       "      <td>15</td>\n",
       "      <td>2.5</td>\n",
       "      <td>775</td>\n",
       "      <td>386</td>\n",
       "      <td>12.0</td>\n",
       "      <td>1</td>\n",
       "      <td>1</td>\n",
       "      <td>0</td>\n",
       "      <td>0</td>\n",
       "      <td>110000</td>\n",
       "    </tr>\n",
       "    <tr>\n",
       "      <th>1</th>\n",
       "      <td>1704</td>\n",
       "      <td>87</td>\n",
       "      <td>1.5Fin</td>\n",
       "      <td>OldTown</td>\n",
       "      <td>6</td>\n",
       "      <td>7</td>\n",
       "      <td>225.0</td>\n",
       "      <td>0.0</td>\n",
       "      <td>19</td>\n",
       "      <td>1.5</td>\n",
       "      <td>666</td>\n",
       "      <td>261</td>\n",
       "      <td>82.0</td>\n",
       "      <td>1</td>\n",
       "      <td>1</td>\n",
       "      <td>0</td>\n",
       "      <td>0</td>\n",
       "      <td>145203</td>\n",
       "    </tr>\n",
       "    <tr>\n",
       "      <th>2</th>\n",
       "      <td>2253</td>\n",
       "      <td>92</td>\n",
       "      <td>1.5Fin</td>\n",
       "      <td>OldTown</td>\n",
       "      <td>5</td>\n",
       "      <td>7</td>\n",
       "      <td>203.0</td>\n",
       "      <td>1.0</td>\n",
       "      <td>57</td>\n",
       "      <td>2.0</td>\n",
       "      <td>625</td>\n",
       "      <td>57</td>\n",
       "      <td>NaN</td>\n",
       "      <td>1</td>\n",
       "      <td>1</td>\n",
       "      <td>0</td>\n",
       "      <td>0</td>\n",
       "      <td>120359</td>\n",
       "    </tr>\n",
       "    <tr>\n",
       "      <th>3</th>\n",
       "      <td>1788</td>\n",
       "      <td>75</td>\n",
       "      <td>1Story</td>\n",
       "      <td>BrkSide</td>\n",
       "      <td>5</td>\n",
       "      <td>7</td>\n",
       "      <td>165.0</td>\n",
       "      <td>0.0</td>\n",
       "      <td>59</td>\n",
       "      <td>1.0</td>\n",
       "      <td>838</td>\n",
       "      <td>228</td>\n",
       "      <td>89.0</td>\n",
       "      <td>0</td>\n",
       "      <td>1</td>\n",
       "      <td>0</td>\n",
       "      <td>0</td>\n",
       "      <td>92758</td>\n",
       "    </tr>\n",
       "    <tr>\n",
       "      <th>4</th>\n",
       "      <td>1361</td>\n",
       "      <td>42</td>\n",
       "      <td>1Story</td>\n",
       "      <td>Edwards</td>\n",
       "      <td>5</td>\n",
       "      <td>5</td>\n",
       "      <td>191.0</td>\n",
       "      <td>0.0</td>\n",
       "      <td>52</td>\n",
       "      <td>1.0</td>\n",
       "      <td>645</td>\n",
       "      <td>457</td>\n",
       "      <td>50.0</td>\n",
       "      <td>0</td>\n",
       "      <td>1</td>\n",
       "      <td>0</td>\n",
       "      <td>0</td>\n",
       "      <td>114073</td>\n",
       "    </tr>\n",
       "  </tbody>\n",
       "</table>\n",
       "</div>"
      ],
      "text/plain": [
       "   property_area  house_age house_style neighborhood  overall_quality  \\\n",
       "0           2501         12      2Story      Gilbert                6   \n",
       "1           1704         87      1.5Fin      OldTown                6   \n",
       "2           2253         92      1.5Fin      OldTown                5   \n",
       "3           1788         75      1Story      BrkSide                5   \n",
       "4           1361         42      1Story      Edwards                5   \n",
       "\n",
       "   overall_condition  spaciousness  liv_lot_ratio  remodel_age  bath_area  \\\n",
       "0                  5         207.0            0.0           15        2.5   \n",
       "1                  7         225.0            0.0           19        1.5   \n",
       "2                  7         203.0            1.0           57        2.0   \n",
       "3                  7         165.0            0.0           59        1.0   \n",
       "4                  5         191.0            0.0           52        1.0   \n",
       "\n",
       "   bsmt_area  garage_area  garage_age  has_2ndfloor  has_porch  has_pool  \\\n",
       "0        775          386        12.0             1          1         0   \n",
       "1        666          261        82.0             1          1         0   \n",
       "2        625           57         NaN             1          1         0   \n",
       "3        838          228        89.0             0          1         0   \n",
       "4        645          457        50.0             0          1         0   \n",
       "\n",
       "   has_multiple_kitchen  sale_price  \n",
       "0                     0      110000  \n",
       "1                     0      145203  \n",
       "2                     0      120359  \n",
       "3                     0       92758  \n",
       "4                     0      114073  "
      ]
     },
     "execution_count": 3,
     "metadata": {},
     "output_type": "execute_result"
    }
   ],
   "source": [
    "df.head()"
   ]
  },
  {
   "cell_type": "code",
   "execution_count": 4,
   "metadata": {},
   "outputs": [
    {
     "data": {
      "text/plain": [
       "(50000, 18)"
      ]
     },
     "execution_count": 4,
     "metadata": {},
     "output_type": "execute_result"
    }
   ],
   "source": [
    "df.shape"
   ]
  },
  {
   "cell_type": "code",
   "execution_count": 3,
   "metadata": {},
   "outputs": [
    {
     "data": {
      "text/plain": [
       "property_area             int64\n",
       "house_age                 int64\n",
       "house_style              object\n",
       "neighborhood             object\n",
       "overall_quality           int64\n",
       "overall_condition         int64\n",
       "spaciousness            float64\n",
       "liv_lot_ratio           float64\n",
       "remodel_age               int64\n",
       "bath_area               float64\n",
       "bsmt_area                 int64\n",
       "garage_area               int64\n",
       "garage_age              float64\n",
       "has_2ndfloor              int64\n",
       "has_porch                 int64\n",
       "has_pool                  int64\n",
       "has_multiple_kitchen      int64\n",
       "sale_price                int64\n",
       "dtype: object"
      ]
     },
     "execution_count": 3,
     "metadata": {},
     "output_type": "execute_result"
    }
   ],
   "source": [
    "df.dtypes"
   ]
  },
  {
   "cell_type": "code",
   "execution_count": 8,
   "metadata": {},
   "outputs": [],
   "source": [
    "df_house_style = pd.get_dummies(df['house_style'])\n",
    "df_neighborhood = pd.get_dummies(df['neighborhood'])"
   ]
  },
  {
   "cell_type": "code",
   "execution_count": 9,
   "metadata": {},
   "outputs": [],
   "source": [
    "df = pd.concat([df, df_house_style, df_neighborhood], axis=1)"
   ]
  },
  {
   "cell_type": "code",
   "execution_count": 10,
   "metadata": {},
   "outputs": [],
   "source": [
    "df.drop(['house_style','neighborhood'], axis=1, inplace=True)"
   ]
  },
  {
   "cell_type": "code",
   "execution_count": 11,
   "metadata": {},
   "outputs": [],
   "source": [
    "for column in df.columns:\n",
    "    df[column] = df[column].astype(float)"
   ]
  },
  {
   "cell_type": "code",
   "execution_count": 12,
   "metadata": {},
   "outputs": [
    {
     "data": {
      "text/plain": [
       "(50000, 46)"
      ]
     },
     "execution_count": 12,
     "metadata": {},
     "output_type": "execute_result"
    }
   ],
   "source": [
    "df.shape"
   ]
  },
  {
   "cell_type": "code",
   "execution_count": 13,
   "metadata": {},
   "outputs": [
    {
     "data": {
      "text/html": [
       "<div>\n",
       "<style scoped>\n",
       "    .dataframe tbody tr th:only-of-type {\n",
       "        vertical-align: middle;\n",
       "    }\n",
       "\n",
       "    .dataframe tbody tr th {\n",
       "        vertical-align: top;\n",
       "    }\n",
       "\n",
       "    .dataframe thead th {\n",
       "        text-align: right;\n",
       "    }\n",
       "</style>\n",
       "<table border=\"1\" class=\"dataframe\">\n",
       "  <thead>\n",
       "    <tr style=\"text-align: right;\">\n",
       "      <th></th>\n",
       "      <th>property_area</th>\n",
       "      <th>house_age</th>\n",
       "      <th>overall_quality</th>\n",
       "      <th>overall_condition</th>\n",
       "      <th>spaciousness</th>\n",
       "      <th>liv_lot_ratio</th>\n",
       "      <th>remodel_age</th>\n",
       "      <th>bath_area</th>\n",
       "      <th>bsmt_area</th>\n",
       "      <th>garage_area</th>\n",
       "      <th>...</th>\n",
       "      <th>NWAmes</th>\n",
       "      <th>NoRidge</th>\n",
       "      <th>NridgHt</th>\n",
       "      <th>OldTown</th>\n",
       "      <th>SWISU</th>\n",
       "      <th>Sawyer</th>\n",
       "      <th>SawyerW</th>\n",
       "      <th>Somerst</th>\n",
       "      <th>StoneBr</th>\n",
       "      <th>Timber</th>\n",
       "    </tr>\n",
       "  </thead>\n",
       "  <tbody>\n",
       "    <tr>\n",
       "      <th>0</th>\n",
       "      <td>2501.0</td>\n",
       "      <td>12.0</td>\n",
       "      <td>6.0</td>\n",
       "      <td>5.0</td>\n",
       "      <td>207.0</td>\n",
       "      <td>0.0</td>\n",
       "      <td>15.0</td>\n",
       "      <td>2.5</td>\n",
       "      <td>775.0</td>\n",
       "      <td>386.0</td>\n",
       "      <td>...</td>\n",
       "      <td>0.0</td>\n",
       "      <td>0.0</td>\n",
       "      <td>0.0</td>\n",
       "      <td>0.0</td>\n",
       "      <td>0.0</td>\n",
       "      <td>0.0</td>\n",
       "      <td>0.0</td>\n",
       "      <td>0.0</td>\n",
       "      <td>0.0</td>\n",
       "      <td>0.0</td>\n",
       "    </tr>\n",
       "    <tr>\n",
       "      <th>1</th>\n",
       "      <td>1704.0</td>\n",
       "      <td>87.0</td>\n",
       "      <td>6.0</td>\n",
       "      <td>7.0</td>\n",
       "      <td>225.0</td>\n",
       "      <td>0.0</td>\n",
       "      <td>19.0</td>\n",
       "      <td>1.5</td>\n",
       "      <td>666.0</td>\n",
       "      <td>261.0</td>\n",
       "      <td>...</td>\n",
       "      <td>0.0</td>\n",
       "      <td>0.0</td>\n",
       "      <td>0.0</td>\n",
       "      <td>1.0</td>\n",
       "      <td>0.0</td>\n",
       "      <td>0.0</td>\n",
       "      <td>0.0</td>\n",
       "      <td>0.0</td>\n",
       "      <td>0.0</td>\n",
       "      <td>0.0</td>\n",
       "    </tr>\n",
       "    <tr>\n",
       "      <th>2</th>\n",
       "      <td>2253.0</td>\n",
       "      <td>92.0</td>\n",
       "      <td>5.0</td>\n",
       "      <td>7.0</td>\n",
       "      <td>203.0</td>\n",
       "      <td>1.0</td>\n",
       "      <td>57.0</td>\n",
       "      <td>2.0</td>\n",
       "      <td>625.0</td>\n",
       "      <td>57.0</td>\n",
       "      <td>...</td>\n",
       "      <td>0.0</td>\n",
       "      <td>0.0</td>\n",
       "      <td>0.0</td>\n",
       "      <td>1.0</td>\n",
       "      <td>0.0</td>\n",
       "      <td>0.0</td>\n",
       "      <td>0.0</td>\n",
       "      <td>0.0</td>\n",
       "      <td>0.0</td>\n",
       "      <td>0.0</td>\n",
       "    </tr>\n",
       "    <tr>\n",
       "      <th>3</th>\n",
       "      <td>1788.0</td>\n",
       "      <td>75.0</td>\n",
       "      <td>5.0</td>\n",
       "      <td>7.0</td>\n",
       "      <td>165.0</td>\n",
       "      <td>0.0</td>\n",
       "      <td>59.0</td>\n",
       "      <td>1.0</td>\n",
       "      <td>838.0</td>\n",
       "      <td>228.0</td>\n",
       "      <td>...</td>\n",
       "      <td>0.0</td>\n",
       "      <td>0.0</td>\n",
       "      <td>0.0</td>\n",
       "      <td>0.0</td>\n",
       "      <td>0.0</td>\n",
       "      <td>0.0</td>\n",
       "      <td>0.0</td>\n",
       "      <td>0.0</td>\n",
       "      <td>0.0</td>\n",
       "      <td>0.0</td>\n",
       "    </tr>\n",
       "    <tr>\n",
       "      <th>4</th>\n",
       "      <td>1361.0</td>\n",
       "      <td>42.0</td>\n",
       "      <td>5.0</td>\n",
       "      <td>5.0</td>\n",
       "      <td>191.0</td>\n",
       "      <td>0.0</td>\n",
       "      <td>52.0</td>\n",
       "      <td>1.0</td>\n",
       "      <td>645.0</td>\n",
       "      <td>457.0</td>\n",
       "      <td>...</td>\n",
       "      <td>0.0</td>\n",
       "      <td>0.0</td>\n",
       "      <td>0.0</td>\n",
       "      <td>0.0</td>\n",
       "      <td>0.0</td>\n",
       "      <td>0.0</td>\n",
       "      <td>0.0</td>\n",
       "      <td>0.0</td>\n",
       "      <td>0.0</td>\n",
       "      <td>0.0</td>\n",
       "    </tr>\n",
       "  </tbody>\n",
       "</table>\n",
       "<p>5 rows × 46 columns</p>\n",
       "</div>"
      ],
      "text/plain": [
       "   property_area  house_age  overall_quality  overall_condition  spaciousness  \\\n",
       "0         2501.0       12.0              6.0                5.0         207.0   \n",
       "1         1704.0       87.0              6.0                7.0         225.0   \n",
       "2         2253.0       92.0              5.0                7.0         203.0   \n",
       "3         1788.0       75.0              5.0                7.0         165.0   \n",
       "4         1361.0       42.0              5.0                5.0         191.0   \n",
       "\n",
       "   liv_lot_ratio  remodel_age  bath_area  bsmt_area  garage_area  ...  NWAmes  \\\n",
       "0            0.0         15.0        2.5      775.0        386.0  ...     0.0   \n",
       "1            0.0         19.0        1.5      666.0        261.0  ...     0.0   \n",
       "2            1.0         57.0        2.0      625.0         57.0  ...     0.0   \n",
       "3            0.0         59.0        1.0      838.0        228.0  ...     0.0   \n",
       "4            0.0         52.0        1.0      645.0        457.0  ...     0.0   \n",
       "\n",
       "   NoRidge  NridgHt  OldTown  SWISU  Sawyer  SawyerW  Somerst  StoneBr  Timber  \n",
       "0      0.0      0.0      0.0    0.0     0.0      0.0      0.0      0.0     0.0  \n",
       "1      0.0      0.0      1.0    0.0     0.0      0.0      0.0      0.0     0.0  \n",
       "2      0.0      0.0      1.0    0.0     0.0      0.0      0.0      0.0     0.0  \n",
       "3      0.0      0.0      0.0    0.0     0.0      0.0      0.0      0.0     0.0  \n",
       "4      0.0      0.0      0.0    0.0     0.0      0.0      0.0      0.0     0.0  \n",
       "\n",
       "[5 rows x 46 columns]"
      ]
     },
     "execution_count": 13,
     "metadata": {},
     "output_type": "execute_result"
    }
   ],
   "source": [
    "df.head()"
   ]
  },
  {
   "cell_type": "code",
   "execution_count": 14,
   "metadata": {},
   "outputs": [],
   "source": [
    "y = df['sale_price']\n",
    "X = df.drop('sale_price', axis=1)"
   ]
  },
  {
   "cell_type": "code",
   "execution_count": 15,
   "metadata": {},
   "outputs": [],
   "source": [
    "X_train, X_test, y_train, y_test = train_test_split(X, y, \n",
    "                                                    test_size=0.2, \n",
    "                                                    random_state = 42)"
   ]
  },
  {
   "cell_type": "code",
   "execution_count": 63,
   "metadata": {},
   "outputs": [],
   "source": [
    "import xgboost as xgb\n",
    "\n",
    "def XGB_CV(\n",
    "        learning_rate,\n",
    "        max_leaves,\n",
    "        lambda1,\n",
    "        lambda2,\n",
    "        max_bin,\n",
    "        max_depth,\n",
    "        gamma,\n",
    "        min_child_weight,\n",
    "        max_delta_step,\n",
    "        subsample,\n",
    "        colsample_bytree,\n",
    "        ):\n",
    "\n",
    "    global rmse_best\n",
    "    global mae_best\n",
    "    global iter_best\n",
    "\n",
    "    paramt = {\n",
    "              'nthread' : 4,\n",
    "              'seed' : 1001,\n",
    "              'objective' : 'reg:squarederror',\n",
    "              'eval_metric': ['rmse', 'mae'],\n",
    "              'booster' : 'gbtree',\n",
    "              'eta' : learning_rate,\n",
    "              'gamma' : gamma,\n",
    "              'max_depth' : int(max_depth),\n",
    "              'min_child_weight' : min_child_weight,\n",
    "              'max_delta_step' : int(max_delta_step),\n",
    "              'subsample' : max(min(subsample, 1), 0),\n",
    "              'colsample_bytree' : max(min(colsample_bytree, 1), 0),\n",
    "              'alpha': lambda1,\n",
    "              'lambda': lambda2,\n",
    "              'max_leaves': int(max_leaves),\n",
    "              'max_bin': int(max_bin),\n",
    "              }\n",
    "\n",
    "    folds = 5\n",
    "    cv_score = 0\n",
    "\n",
    "    print(\"\\n Search parameters (%d-fold validation):\\n %s\" % (folds, paramt), file=log_file )\n",
    "    log_file.flush()\n",
    "\n",
    "    xgbc = xgb.cv(\n",
    "        paramt,\n",
    "        dtrain,\n",
    "        num_boost_round = 100,\n",
    "        nfold = folds,\n",
    "        verbose_eval = 10,\n",
    "        #early_stopping_rounds = 100,\n",
    "        metrics = ['rmse','mae'],\n",
    "        show_stdv = True\n",
    "    )\n",
    "\n",
    "    val_score = xgbc['test-rmse-mean'].iloc[-1]\n",
    "    train_score = xgbc['train-rmse-mean'].iloc[-1]\n",
    "    print(\n",
    "        'Stopped after %d iterations with train-rmse = %f val-rmse = %f' % ( \n",
    "            len(xgbc), \n",
    "            train_score,\n",
    "            val_score\n",
    "        ) \n",
    "    )\n",
    "\n",
    "    if ( val_score < rmse_best ):\n",
    "        rmse_best = val_score\n",
    "        iter_best = len(xgbc)\n",
    "\n",
    "    return -val_score"
   ]
  },
  {
   "cell_type": "code",
   "execution_count": 64,
   "metadata": {},
   "outputs": [],
   "source": [
    "# Define the log file. If you repeat this run, new output will be added to it\n",
    "log_file = open('challenge-rmse-5fold-XGB-run-01-v1-full.log', 'a')\n",
    "rmse_best = -1.\n",
    "iter_best = 0"
   ]
  },
  {
   "cell_type": "code",
   "execution_count": 65,
   "metadata": {},
   "outputs": [],
   "source": [
    "dtrain = xgb.DMatrix(X_train, label = y_train)"
   ]
  },
  {
   "cell_type": "code",
   "execution_count": 66,
   "metadata": {},
   "outputs": [],
   "source": [
    "bounds = {\n",
    "    'learning_rate': (0.001, 0.2),\n",
    "    'max_leaves': (8, 1024),\n",
    "    'lambda1': (0.1, 100),\n",
    "    'lambda2': (0.1, 100),\n",
    "    'max_bin': (3, 1023),\n",
    "    'max_depth': (-1, 20),\n",
    "    'gamma': (0.001, 10.0),\n",
    "    'min_child_weight': (0, 20),\n",
    "    'max_delta_step': (0, 10),\n",
    "    'subsample': (0.1, 1.0),\n",
    "    'colsample_bytree' :(0.1, 1.0)\n",
    "}"
   ]
  },
  {
   "cell_type": "code",
   "execution_count": 67,
   "metadata": {},
   "outputs": [],
   "source": [
    "XGB_BO = BayesianOptimization(\n",
    "    f=XGB_CV, \n",
    "    pbounds=bounds,\n",
    ")"
   ]
  },
  {
   "cell_type": "code",
   "execution_count": 70,
   "metadata": {},
   "outputs": [
    {
     "name": "stdout",
     "output_type": "stream",
     "text": [
      "----------------------------------------------------------------------------------------------------------------------------------\n",
      "|   iter    |  target   | colsam... |   gamma   |  lambda1  |  lambda2  | learni... |  max_bin  | max_de... | max_depth | max_le... | min_ch... | subsample |\n",
      "-------------------------------------------------------------------------------------------------------------------------------------------------------------\n",
      "Stopped after 100 iterations with train-rmse = 191160.843750 val-rmse = 191159.087500\n",
      "| \u001b[0m 25      \u001b[0m | \u001b[0m-1.912e+0\u001b[0m | \u001b[0m 0.3627  \u001b[0m | \u001b[0m 3.695   \u001b[0m | \u001b[0m 64.86   \u001b[0m | \u001b[0m 70.71   \u001b[0m | \u001b[0m 0.1122  \u001b[0m | \u001b[0m 755.2   \u001b[0m | \u001b[0m 1.536   \u001b[0m | \u001b[0m 8.471   \u001b[0m | \u001b[0m 282.9   \u001b[0m | \u001b[0m 1.521   \u001b[0m | \u001b[0m 0.1096  \u001b[0m |\n",
      "Stopped after 100 iterations with train-rmse = 191161.403125 val-rmse = 191159.681250\n",
      "| \u001b[0m 26      \u001b[0m | \u001b[0m-1.912e+0\u001b[0m | \u001b[0m 0.734   \u001b[0m | \u001b[0m 8.678   \u001b[0m | \u001b[0m 17.37   \u001b[0m | \u001b[0m 14.34   \u001b[0m | \u001b[0m 0.01767 \u001b[0m | \u001b[0m 409.3   \u001b[0m | \u001b[0m 6.307   \u001b[0m | \u001b[0m 3.172   \u001b[0m | \u001b[0m 930.4   \u001b[0m | \u001b[0m 15.98   \u001b[0m | \u001b[0m 0.5131  \u001b[0m |\n",
      "Stopped after 100 iterations with train-rmse = 191104.296875 val-rmse = 191102.465625\n",
      "| \u001b[0m 27      \u001b[0m | \u001b[0m-1.911e+0\u001b[0m | \u001b[0m 0.4877  \u001b[0m | \u001b[0m 6.97    \u001b[0m | \u001b[0m 44.86   \u001b[0m | \u001b[0m 84.86   \u001b[0m | \u001b[0m 0.18    \u001b[0m | \u001b[0m 759.2   \u001b[0m | \u001b[0m 4.191   \u001b[0m | \u001b[0m 8.027   \u001b[0m | \u001b[0m 799.0   \u001b[0m | \u001b[0m 19.29   \u001b[0m | \u001b[0m 0.5231  \u001b[0m |\n",
      "Stopped after 100 iterations with train-rmse = 191157.893750 val-rmse = 191156.128125\n",
      "| \u001b[0m 28      \u001b[0m | \u001b[0m-1.912e+0\u001b[0m | \u001b[0m 0.9539  \u001b[0m | \u001b[0m 2.956   \u001b[0m | \u001b[0m 43.7    \u001b[0m | \u001b[0m 30.3    \u001b[0m | \u001b[0m 0.1441  \u001b[0m | \u001b[0m 652.2   \u001b[0m | \u001b[0m 1.856   \u001b[0m | \u001b[0m 16.45   \u001b[0m | \u001b[0m 715.1   \u001b[0m | \u001b[0m 6.511   \u001b[0m | \u001b[0m 0.4113  \u001b[0m |\n",
      "Stopped after 100 iterations with train-rmse = 191114.812500 val-rmse = 191113.106250\n",
      "| \u001b[0m 29      \u001b[0m | \u001b[0m-1.911e+0\u001b[0m | \u001b[0m 0.1065  \u001b[0m | \u001b[0m 1.726   \u001b[0m | \u001b[0m 34.97   \u001b[0m | \u001b[0m 8.645   \u001b[0m | \u001b[0m 0.08651 \u001b[0m | \u001b[0m 976.6   \u001b[0m | \u001b[0m 7.351   \u001b[0m | \u001b[0m 15.27   \u001b[0m | \u001b[0m 83.68   \u001b[0m | \u001b[0m 6.634   \u001b[0m | \u001b[0m 0.2801  \u001b[0m |\n",
      "Stopped after 100 iterations with train-rmse = 191170.075000 val-rmse = 191168.250000\n",
      "| \u001b[0m 30      \u001b[0m | \u001b[0m-1.912e+0\u001b[0m | \u001b[0m 0.7953  \u001b[0m | \u001b[0m 0.4304  \u001b[0m | \u001b[0m 28.24   \u001b[0m | \u001b[0m 11.78   \u001b[0m | \u001b[0m 0.002806\u001b[0m | \u001b[0m 967.6   \u001b[0m | \u001b[0m 5.627   \u001b[0m | \u001b[0m 9.437   \u001b[0m | \u001b[0m 85.49   \u001b[0m | \u001b[0m 19.49   \u001b[0m | \u001b[0m 0.4979  \u001b[0m |\n",
      "Stopped after 100 iterations with train-rmse = 191131.612500 val-rmse = 191129.715625\n",
      "| \u001b[0m 31      \u001b[0m | \u001b[0m-1.911e+0\u001b[0m | \u001b[0m 0.6687  \u001b[0m | \u001b[0m 6.443   \u001b[0m | \u001b[0m 85.84   \u001b[0m | \u001b[0m 17.03   \u001b[0m | \u001b[0m 0.1425  \u001b[0m | \u001b[0m 992.8   \u001b[0m | \u001b[0m 3.605   \u001b[0m | \u001b[0m 4.837   \u001b[0m | \u001b[0m 14.44   \u001b[0m | \u001b[0m 0.916   \u001b[0m | \u001b[0m 0.114   \u001b[0m |\n",
      "Stopped after 100 iterations with train-rmse = 191139.159375 val-rmse = 191137.312500\n",
      "| \u001b[0m 32      \u001b[0m | \u001b[0m-1.911e+0\u001b[0m | \u001b[0m 0.4427  \u001b[0m | \u001b[0m 8.054   \u001b[0m | \u001b[0m 36.26   \u001b[0m | \u001b[0m 14.31   \u001b[0m | \u001b[0m 0.1154  \u001b[0m | \u001b[0m 963.4   \u001b[0m | \u001b[0m 3.089   \u001b[0m | \u001b[0m 17.31   \u001b[0m | \u001b[0m 78.16   \u001b[0m | \u001b[0m 9.38    \u001b[0m | \u001b[0m 0.6835  \u001b[0m |\n",
      "Stopped after 100 iterations with train-rmse = 191115.231250 val-rmse = 191113.525000\n",
      "| \u001b[0m 33      \u001b[0m | \u001b[0m-1.911e+0\u001b[0m | \u001b[0m 0.7441  \u001b[0m | \u001b[0m 3.277   \u001b[0m | \u001b[0m 36.72   \u001b[0m | \u001b[0m 20.82   \u001b[0m | \u001b[0m 0.0668  \u001b[0m | \u001b[0m 221.7   \u001b[0m | \u001b[0m 9.683   \u001b[0m | \u001b[0m 19.65   \u001b[0m | \u001b[0m 413.5   \u001b[0m | \u001b[0m 6.479   \u001b[0m | \u001b[0m 0.4217  \u001b[0m |\n",
      "Stopped after 100 iterations with train-rmse = 19746.466406 val-rmse = 36482.853125\n",
      "| \u001b[0m 34      \u001b[0m | \u001b[0m-3.648e+0\u001b[0m | \u001b[0m 0.8354  \u001b[0m | \u001b[0m 3.507   \u001b[0m | \u001b[0m 42.89   \u001b[0m | \u001b[0m 24.42   \u001b[0m | \u001b[0m 0.1958  \u001b[0m | \u001b[0m 966.3   \u001b[0m | \u001b[0m 0.729   \u001b[0m | \u001b[0m 19.86   \u001b[0m | \u001b[0m 89.69   \u001b[0m | \u001b[0m 10.53   \u001b[0m | \u001b[0m 0.5177  \u001b[0m |\n",
      "Stopped after 100 iterations with train-rmse = 191145.443750 val-rmse = 191143.546875\n",
      "| \u001b[0m 35      \u001b[0m | \u001b[0m-1.911e+0\u001b[0m | \u001b[0m 0.3461  \u001b[0m | \u001b[0m 3.561   \u001b[0m | \u001b[0m 36.28   \u001b[0m | \u001b[0m 20.11   \u001b[0m | \u001b[0m 0.09302 \u001b[0m | \u001b[0m 949.1   \u001b[0m | \u001b[0m 3.05    \u001b[0m | \u001b[0m 7.392   \u001b[0m | \u001b[0m 89.31   \u001b[0m | \u001b[0m 11.22   \u001b[0m | \u001b[0m 0.6256  \u001b[0m |\n",
      "Stopped after 100 iterations with train-rmse = 191152.203125 val-rmse = 191150.437500\n",
      "| \u001b[0m 36      \u001b[0m | \u001b[0m-1.912e+0\u001b[0m | \u001b[0m 0.3233  \u001b[0m | \u001b[0m 9.423   \u001b[0m | \u001b[0m 35.59   \u001b[0m | \u001b[0m 40.57   \u001b[0m | \u001b[0m 0.1026  \u001b[0m | \u001b[0m 952.9   \u001b[0m | \u001b[0m 2.976   \u001b[0m | \u001b[0m 14.87   \u001b[0m | \u001b[0m 99.94   \u001b[0m | \u001b[0m 10.41   \u001b[0m | \u001b[0m 0.8079  \u001b[0m |\n",
      "Stopped after 100 iterations with train-rmse = 191163.537500 val-rmse = 191161.784375\n",
      "| \u001b[0m 37      \u001b[0m | \u001b[0m-1.912e+0\u001b[0m | \u001b[0m 0.9027  \u001b[0m | \u001b[0m 5.068   \u001b[0m | \u001b[0m 48.71   \u001b[0m | \u001b[0m 29.01   \u001b[0m | \u001b[0m 0.08353 \u001b[0m | \u001b[0m 954.5   \u001b[0m | \u001b[0m 1.44    \u001b[0m | \u001b[0m 14.71   \u001b[0m | \u001b[0m 87.55   \u001b[0m | \u001b[0m 5.244   \u001b[0m | \u001b[0m 0.1013  \u001b[0m |\n",
      "Stopped after 100 iterations with train-rmse = 191100.246875 val-rmse = 191098.406250\n",
      "| \u001b[0m 38      \u001b[0m | \u001b[0m-1.911e+0\u001b[0m | \u001b[0m 0.5629  \u001b[0m | \u001b[0m 2.791   \u001b[0m | \u001b[0m 51.71   \u001b[0m | \u001b[0m 14.95   \u001b[0m | \u001b[0m 0.1091  \u001b[0m | \u001b[0m 462.7   \u001b[0m | \u001b[0m 7.519   \u001b[0m | \u001b[0m 1.659   \u001b[0m | \u001b[0m 250.9   \u001b[0m | \u001b[0m 7.908   \u001b[0m | \u001b[0m 0.2016  \u001b[0m |\n",
      "Stopped after 100 iterations with train-rmse = 191163.821875 val-rmse = 191162.053125\n",
      "| \u001b[0m 39      \u001b[0m | \u001b[0m-1.912e+0\u001b[0m | \u001b[0m 0.2436  \u001b[0m | \u001b[0m 4.918   \u001b[0m | \u001b[0m 31.43   \u001b[0m | \u001b[0m 20.08   \u001b[0m | \u001b[0m 0.08066 \u001b[0m | \u001b[0m 232.8   \u001b[0m | \u001b[0m 1.176   \u001b[0m | \u001b[0m 12.63   \u001b[0m | \u001b[0m 397.6   \u001b[0m | \u001b[0m 19.22   \u001b[0m | \u001b[0m 0.6265  \u001b[0m |\n",
      "Stopped after 100 iterations with train-rmse = 191092.325000 val-rmse = 191090.462500\n",
      "| \u001b[0m 40      \u001b[0m | \u001b[0m-1.911e+0\u001b[0m | \u001b[0m 0.4723  \u001b[0m | \u001b[0m 5.255   \u001b[0m | \u001b[0m 32.84   \u001b[0m | \u001b[0m 12.47   \u001b[0m | \u001b[0m 0.09428 \u001b[0m | \u001b[0m 212.3   \u001b[0m | \u001b[0m 9.063   \u001b[0m | \u001b[0m 4.817   \u001b[0m | \u001b[0m 400.9   \u001b[0m | \u001b[0m 0.4899  \u001b[0m | \u001b[0m 0.9273  \u001b[0m |\n",
      "Stopped after 100 iterations with train-rmse = 191164.768750 val-rmse = 191162.971875\n",
      "| \u001b[0m 41      \u001b[0m | \u001b[0m-1.912e+0\u001b[0m | \u001b[0m 0.3889  \u001b[0m | \u001b[0m 4.595   \u001b[0m | \u001b[0m 21.72   \u001b[0m | \u001b[0m 1.411   \u001b[0m | \u001b[0m 0.01181 \u001b[0m | \u001b[0m 224.0   \u001b[0m | \u001b[0m 6.346   \u001b[0m | \u001b[0m 11.34   \u001b[0m | \u001b[0m 390.8   \u001b[0m | \u001b[0m 0.1968  \u001b[0m | \u001b[0m 0.6635  \u001b[0m |\n",
      "Stopped after 100 iterations with train-rmse = 191147.028125 val-rmse = 191145.165625\n",
      "| \u001b[0m 42      \u001b[0m | \u001b[0m-1.911e+0\u001b[0m | \u001b[0m 0.259   \u001b[0m | \u001b[0m 6.812   \u001b[0m | \u001b[0m 45.84   \u001b[0m | \u001b[0m 26.06   \u001b[0m | \u001b[0m 0.08724 \u001b[0m | \u001b[0m 973.2   \u001b[0m | \u001b[0m 3.239   \u001b[0m | \u001b[0m 13.08   \u001b[0m | \u001b[0m 98.79   \u001b[0m | \u001b[0m 14.26   \u001b[0m | \u001b[0m 0.2274  \u001b[0m |\n",
      "Stopped after 100 iterations with train-rmse = 191142.593750 val-rmse = 191140.765625\n",
      "| \u001b[0m 43      \u001b[0m | \u001b[0m-1.911e+0\u001b[0m | \u001b[0m 0.7858  \u001b[0m | \u001b[0m 6.869   \u001b[0m | \u001b[0m 34.21   \u001b[0m | \u001b[0m 23.26   \u001b[0m | \u001b[0m 0.03862 \u001b[0m | \u001b[0m 226.5   \u001b[0m | \u001b[0m 8.757   \u001b[0m | \u001b[0m 6.525   \u001b[0m | \u001b[0m 407.8   \u001b[0m | \u001b[0m 4.204   \u001b[0m | \u001b[0m 0.6473  \u001b[0m |\n",
      "Stopped after 100 iterations with train-rmse = 191031.553125 val-rmse = 191029.740625\n",
      "| \u001b[0m 44      \u001b[0m | \u001b[0m-1.91e+05\u001b[0m | \u001b[0m 0.7894  \u001b[0m | \u001b[0m 9.59    \u001b[0m | \u001b[0m 52.05   \u001b[0m | \u001b[0m 78.08   \u001b[0m | \u001b[0m 0.1667  \u001b[0m | \u001b[0m 15.1    \u001b[0m | \u001b[0m 9.87    \u001b[0m | \u001b[0m 14.31   \u001b[0m | \u001b[0m 947.9   \u001b[0m | \u001b[0m 16.48   \u001b[0m | \u001b[0m 0.95    \u001b[0m |\n",
      "Stopped after 100 iterations with train-rmse = 191152.759375 val-rmse = 191150.987500\n",
      "| \u001b[0m 45      \u001b[0m | \u001b[0m-1.912e+0\u001b[0m | \u001b[0m 0.3774  \u001b[0m | \u001b[0m 1.961   \u001b[0m | \u001b[0m 54.69   \u001b[0m | \u001b[0m 1.038   \u001b[0m | \u001b[0m 0.1995  \u001b[0m | \u001b[0m 977.3   \u001b[0m | \u001b[0m 1.98    \u001b[0m | \u001b[0m 14.03   \u001b[0m | \u001b[0m 92.61   \u001b[0m | \u001b[0m 10.68   \u001b[0m | \u001b[0m 0.9911  \u001b[0m |\n",
      "Stopped after 100 iterations with train-rmse = 191142.437500 val-rmse = 191140.618750\n",
      "| \u001b[0m 46      \u001b[0m | \u001b[0m-1.911e+0\u001b[0m | \u001b[0m 0.8416  \u001b[0m | \u001b[0m 0.14    \u001b[0m | \u001b[0m 16.3    \u001b[0m | \u001b[0m 8.938   \u001b[0m | \u001b[0m 0.05175 \u001b[0m | \u001b[0m 963.7   \u001b[0m | \u001b[0m 6.205   \u001b[0m | \u001b[0m 15.34   \u001b[0m | \u001b[0m 86.45   \u001b[0m | \u001b[0m 8.41    \u001b[0m | \u001b[0m 0.1402  \u001b[0m |\n",
      "Stopped after 100 iterations with train-rmse = 191136.675000 val-rmse = 191134.740625\n",
      "| \u001b[0m 47      \u001b[0m | \u001b[0m-1.911e+0\u001b[0m | \u001b[0m 0.5333  \u001b[0m | \u001b[0m 3.284   \u001b[0m | \u001b[0m 70.63   \u001b[0m | \u001b[0m 13.66   \u001b[0m | \u001b[0m 0.09335 \u001b[0m | \u001b[0m 964.6   \u001b[0m | \u001b[0m 4.084   \u001b[0m | \u001b[0m 4.611   \u001b[0m | \u001b[0m 103.8   \u001b[0m | \u001b[0m 7.949   \u001b[0m | \u001b[0m 0.4461  \u001b[0m |\n",
      "Stopped after 100 iterations with train-rmse = 191119.940625 val-rmse = 191118.306250\n",
      "| \u001b[0m 48      \u001b[0m | \u001b[0m-1.911e+0\u001b[0m | \u001b[0m 0.9886  \u001b[0m | \u001b[0m 3.559   \u001b[0m | \u001b[0m 87.42   \u001b[0m | \u001b[0m 5.123   \u001b[0m | \u001b[0m 0.06112 \u001b[0m | \u001b[0m 979.8   \u001b[0m | \u001b[0m 9.435   \u001b[0m | \u001b[0m 7.696   \u001b[0m | \u001b[0m 18.83   \u001b[0m | \u001b[0m 18.11   \u001b[0m | \u001b[0m 0.5558  \u001b[0m |\n",
      "Stopped after 100 iterations with train-rmse = 191161.062500 val-rmse = 191159.309375\n",
      "| \u001b[0m 49      \u001b[0m | \u001b[0m-1.912e+0\u001b[0m | \u001b[0m 0.7455  \u001b[0m | \u001b[0m 9.464   \u001b[0m | \u001b[0m 92.63   \u001b[0m | \u001b[0m 0.8753  \u001b[0m | \u001b[0m 0.05489 \u001b[0m | \u001b[0m 946.2   \u001b[0m | \u001b[0m 2.386   \u001b[0m | \u001b[0m 11.66   \u001b[0m | \u001b[0m 100.5   \u001b[0m | \u001b[0m 2.247   \u001b[0m | \u001b[0m 0.6113  \u001b[0m |\n",
      "Stopped after 100 iterations with train-rmse = 191144.909375 val-rmse = 191143.021875\n",
      "| \u001b[0m 50      \u001b[0m | \u001b[0m-1.911e+0\u001b[0m | \u001b[0m 0.4006  \u001b[0m | \u001b[0m 3.608   \u001b[0m | \u001b[0m 51.21   \u001b[0m | \u001b[0m 18.29   \u001b[0m | \u001b[0m 0.0949  \u001b[0m | \u001b[0m 963.0   \u001b[0m | \u001b[0m 3.24    \u001b[0m | \u001b[0m 11.18   \u001b[0m | \u001b[0m 107.7   \u001b[0m | \u001b[0m 11.41   \u001b[0m | \u001b[0m 0.5205  \u001b[0m |\n",
      "Stopped after 100 iterations with train-rmse = 191144.465625 val-rmse = 191142.590625\n",
      "| \u001b[0m 51      \u001b[0m | \u001b[0m-1.911e+0\u001b[0m | \u001b[0m 0.9574  \u001b[0m | \u001b[0m 9.974   \u001b[0m | \u001b[0m 87.68   \u001b[0m | \u001b[0m 6.01    \u001b[0m | \u001b[0m 0.1447  \u001b[0m | \u001b[0m 941.5   \u001b[0m | \u001b[0m 2.466   \u001b[0m | \u001b[0m 12.49   \u001b[0m | \u001b[0m 86.2    \u001b[0m | \u001b[0m 0.9934  \u001b[0m | \u001b[0m 0.1616  \u001b[0m |\n",
      "Stopped after 100 iterations with train-rmse = 191155.259375 val-rmse = 191153.490625\n",
      "| \u001b[0m 52      \u001b[0m | \u001b[0m-1.912e+0\u001b[0m | \u001b[0m 0.8179  \u001b[0m | \u001b[0m 5.149   \u001b[0m | \u001b[0m 89.86   \u001b[0m | \u001b[0m 43.07   \u001b[0m | \u001b[0m 0.05753 \u001b[0m | \u001b[0m 350.1   \u001b[0m | \u001b[0m 3.945   \u001b[0m | \u001b[0m 9.441   \u001b[0m | \u001b[0m 767.1   \u001b[0m | \u001b[0m 2.386   \u001b[0m | \u001b[0m 0.7623  \u001b[0m |\n",
      "Stopped after 100 iterations with train-rmse = 191143.534375 val-rmse = 191141.662500\n",
      "| \u001b[0m 53      \u001b[0m | \u001b[0m-1.911e+0\u001b[0m | \u001b[0m 0.3338  \u001b[0m | \u001b[0m 7.853   \u001b[0m | \u001b[0m 85.12   \u001b[0m | \u001b[0m 5.951   \u001b[0m | \u001b[0m 0.07481 \u001b[0m | \u001b[0m 1e+03   \u001b[0m | \u001b[0m 4.656   \u001b[0m | \u001b[0m 0.3977  \u001b[0m | \u001b[0m 30.21   \u001b[0m | \u001b[0m 4.458   \u001b[0m | \u001b[0m 0.2614  \u001b[0m |\n",
      "Stopped after 100 iterations with train-rmse = 191153.287500 val-rmse = 191151.487500\n",
      "| \u001b[0m 54      \u001b[0m | \u001b[0m-1.912e+0\u001b[0m | \u001b[0m 0.3298  \u001b[0m | \u001b[0m 3.771   \u001b[0m | \u001b[0m 36.97   \u001b[0m | \u001b[0m 15.64   \u001b[0m | \u001b[0m 0.194   \u001b[0m | \u001b[0m 221.8   \u001b[0m | \u001b[0m 1.937   \u001b[0m | \u001b[0m 14.14   \u001b[0m | \u001b[0m 405.2   \u001b[0m | \u001b[0m 16.93   \u001b[0m | \u001b[0m 0.1147  \u001b[0m |\n",
      "Stopped after 100 iterations with train-rmse = 191094.834375 val-rmse = 191092.962500\n",
      "| \u001b[0m 55      \u001b[0m | \u001b[0m-1.911e+0\u001b[0m | \u001b[0m 0.1132  \u001b[0m | \u001b[0m 1.938   \u001b[0m | \u001b[0m 80.61   \u001b[0m | \u001b[0m 18.46   \u001b[0m | \u001b[0m 0.09131 \u001b[0m | \u001b[0m 984.6   \u001b[0m | \u001b[0m 9.048   \u001b[0m | \u001b[0m 15.25   \u001b[0m | \u001b[0m 34.17   \u001b[0m | \u001b[0m 0.4237  \u001b[0m | \u001b[0m 0.4046  \u001b[0m |\n",
      "Stopped after 100 iterations with train-rmse = 191156.228125 val-rmse = 191154.459375\n",
      "| \u001b[0m 56      \u001b[0m | \u001b[0m-1.912e+0\u001b[0m | \u001b[0m 0.5995  \u001b[0m | \u001b[0m 3.279   \u001b[0m | \u001b[0m 65.35   \u001b[0m | \u001b[0m 92.62   \u001b[0m | \u001b[0m 0.03242 \u001b[0m | \u001b[0m 568.1   \u001b[0m | \u001b[0m 5.136   \u001b[0m | \u001b[0m 15.11   \u001b[0m | \u001b[0m 793.0   \u001b[0m | \u001b[0m 2.395   \u001b[0m | \u001b[0m 0.9999  \u001b[0m |\n",
      "Stopped after 100 iterations with train-rmse = 35072.133594 val-rmse = 35352.946875\n",
      "| \u001b[0m 57      \u001b[0m | \u001b[0m-3.535e+0\u001b[0m | \u001b[0m 0.1535  \u001b[0m | \u001b[0m 2.671   \u001b[0m | \u001b[0m 75.76   \u001b[0m | \u001b[0m 5.493   \u001b[0m | \u001b[0m 0.08359 \u001b[0m | \u001b[0m 1.008e+0\u001b[0m | \u001b[0m 0.613   \u001b[0m | \u001b[0m 3.426   \u001b[0m | \u001b[0m 14.72   \u001b[0m | \u001b[0m 8.889   \u001b[0m | \u001b[0m 0.2815  \u001b[0m |\n",
      "Stopped after 100 iterations with train-rmse = 191136.218750 val-rmse = 191134.303125\n",
      "| \u001b[0m 58      \u001b[0m | \u001b[0m-1.911e+0\u001b[0m | \u001b[0m 0.8888  \u001b[0m | \u001b[0m 6.585   \u001b[0m | \u001b[0m 65.14   \u001b[0m | \u001b[0m 1.385   \u001b[0m | \u001b[0m 0.06304 \u001b[0m | \u001b[0m 1.009e+0\u001b[0m | \u001b[0m 6.258   \u001b[0m | \u001b[0m-0.1328  \u001b[0m | \u001b[0m 11.54   \u001b[0m | \u001b[0m 14.03   \u001b[0m | \u001b[0m 0.6449  \u001b[0m |\n",
      "Stopped after 100 iterations with train-rmse = 191075.281250 val-rmse = 191073.415625\n",
      "| \u001b[0m 59      \u001b[0m | \u001b[0m-1.911e+0\u001b[0m | \u001b[0m 0.5535  \u001b[0m | \u001b[0m 7.063   \u001b[0m | \u001b[0m 70.27   \u001b[0m | \u001b[0m 2.086   \u001b[0m | \u001b[0m 0.1474  \u001b[0m | \u001b[0m 972.5   \u001b[0m | \u001b[0m 7.633   \u001b[0m | \u001b[0m 12.79   \u001b[0m | \u001b[0m 16.11   \u001b[0m | \u001b[0m 5.199   \u001b[0m | \u001b[0m 0.2203  \u001b[0m |\n",
      "Stopped after 100 iterations with train-rmse = 191024.775000 val-rmse = 191023.034375\n",
      "| \u001b[0m 60      \u001b[0m | \u001b[0m-1.91e+05\u001b[0m | \u001b[0m 0.3656  \u001b[0m | \u001b[0m 6.539   \u001b[0m | \u001b[0m 75.27   \u001b[0m | \u001b[0m 19.4    \u001b[0m | \u001b[0m 0.1965  \u001b[0m | \u001b[0m 993.8   \u001b[0m | \u001b[0m 8.701   \u001b[0m | \u001b[0m 4.284   \u001b[0m | \u001b[0m 18.57   \u001b[0m | \u001b[0m 13.89   \u001b[0m | \u001b[0m 0.2883  \u001b[0m |\n",
      "Stopped after 100 iterations with train-rmse = 191156.693750 val-rmse = 191154.912500\n",
      "| \u001b[0m 61      \u001b[0m | \u001b[0m-1.912e+0\u001b[0m | \u001b[0m 0.5417  \u001b[0m | \u001b[0m 2.865   \u001b[0m | \u001b[0m 44.97   \u001b[0m | \u001b[0m 56.95   \u001b[0m | \u001b[0m 0.1572  \u001b[0m | \u001b[0m 1.013e+0\u001b[0m | \u001b[0m 1.15    \u001b[0m | \u001b[0m 12.67   \u001b[0m | \u001b[0m 57.36   \u001b[0m | \u001b[0m 5.369   \u001b[0m | \u001b[0m 0.9992  \u001b[0m |\n",
      "Stopped after 100 iterations with train-rmse = 191164.265625 val-rmse = 191162.490625\n",
      "| \u001b[0m 62      \u001b[0m | \u001b[0m-1.912e+0\u001b[0m | \u001b[0m 0.6688  \u001b[0m | \u001b[0m 0.2392  \u001b[0m | \u001b[0m 77.95   \u001b[0m | \u001b[0m 1.938   \u001b[0m | \u001b[0m 0.02533 \u001b[0m | \u001b[0m 989.6   \u001b[0m | \u001b[0m 3.581   \u001b[0m | \u001b[0m 17.16   \u001b[0m | \u001b[0m 16.93   \u001b[0m | \u001b[0m 0.2095  \u001b[0m | \u001b[0m 0.302   \u001b[0m |\n",
      "Stopped after 100 iterations with train-rmse = 34367.776562 val-rmse = 34979.916406\n",
      "| \u001b[0m 63      \u001b[0m | \u001b[0m-3.498e+0\u001b[0m | \u001b[0m 0.9035  \u001b[0m | \u001b[0m 7.058   \u001b[0m | \u001b[0m 65.24   \u001b[0m | \u001b[0m 10.39   \u001b[0m | \u001b[0m 0.1235  \u001b[0m | \u001b[0m 13.96   \u001b[0m | \u001b[0m 0.9582  \u001b[0m | \u001b[0m 3.025   \u001b[0m | \u001b[0m 671.8   \u001b[0m | \u001b[0m 18.26   \u001b[0m | \u001b[0m 0.1978  \u001b[0m |\n",
      "Stopped after 100 iterations with train-rmse = 191128.356250 val-rmse = 191126.478125\n",
      "| \u001b[0m 64      \u001b[0m | \u001b[0m-1.911e+0\u001b[0m | \u001b[0m 0.6165  \u001b[0m | \u001b[0m 5.808   \u001b[0m | \u001b[0m 86.53   \u001b[0m | \u001b[0m 59.61   \u001b[0m | \u001b[0m 0.06602 \u001b[0m | \u001b[0m 44.23   \u001b[0m | \u001b[0m 7.854   \u001b[0m | \u001b[0m 8.74    \u001b[0m | \u001b[0m 214.0   \u001b[0m | \u001b[0m 13.07   \u001b[0m | \u001b[0m 0.6842  \u001b[0m |\n",
      "Stopped after 100 iterations with train-rmse = 191071.471875 val-rmse = 191069.631250\n",
      "| \u001b[0m 65      \u001b[0m | \u001b[0m-1.911e+0\u001b[0m | \u001b[0m 0.8481  \u001b[0m | \u001b[0m 2.124   \u001b[0m | \u001b[0m 66.93   \u001b[0m | \u001b[0m 16.53   \u001b[0m | \u001b[0m 0.1532  \u001b[0m | \u001b[0m 16.76   \u001b[0m | \u001b[0m 7.471   \u001b[0m | \u001b[0m 4.189   \u001b[0m | \u001b[0m 671.1   \u001b[0m | \u001b[0m 18.29   \u001b[0m | \u001b[0m 0.3948  \u001b[0m |\n",
      "Stopped after 100 iterations with train-rmse = 32846.956641 val-rmse = 35093.171094\n",
      "| \u001b[0m 66      \u001b[0m | \u001b[0m-3.509e+0\u001b[0m | \u001b[0m 0.1759  \u001b[0m | \u001b[0m 9.933   \u001b[0m | \u001b[0m 70.52   \u001b[0m | \u001b[0m 11.46   \u001b[0m | \u001b[0m 0.1057  \u001b[0m | \u001b[0m 14.38   \u001b[0m | \u001b[0m 0.3112  \u001b[0m | \u001b[0m 9.607   \u001b[0m | \u001b[0m 664.1   \u001b[0m | \u001b[0m 13.29   \u001b[0m | \u001b[0m 0.5902  \u001b[0m |\n",
      "Stopped after 100 iterations with train-rmse = 191162.193750 val-rmse = 191160.450000\n",
      "| \u001b[0m 67      \u001b[0m | \u001b[0m-1.912e+0\u001b[0m | \u001b[0m 0.8988  \u001b[0m | \u001b[0m 6.387   \u001b[0m | \u001b[0m 86.95   \u001b[0m | \u001b[0m 4.274   \u001b[0m | \u001b[0m 0.0979  \u001b[0m | \u001b[0m 1.012e+0\u001b[0m | \u001b[0m 1.287   \u001b[0m | \u001b[0m 9.688   \u001b[0m | \u001b[0m 10.21   \u001b[0m | \u001b[0m 13.42   \u001b[0m | \u001b[0m 0.7481  \u001b[0m |\n",
      "Stopped after 100 iterations with train-rmse = 191161.690625 val-rmse = 191159.946875\n",
      "| \u001b[0m 68      \u001b[0m | \u001b[0m-1.912e+0\u001b[0m | \u001b[0m 0.192   \u001b[0m | \u001b[0m 8.158   \u001b[0m | \u001b[0m 81.19   \u001b[0m | \u001b[0m 10.06   \u001b[0m | \u001b[0m 0.05153 \u001b[0m | \u001b[0m 6.325   \u001b[0m | \u001b[0m 2.0     \u001b[0m | \u001b[0m 6.603   \u001b[0m | \u001b[0m 662.3   \u001b[0m | \u001b[0m 19.03   \u001b[0m | \u001b[0m 0.6702  \u001b[0m |\n",
      "Stopped after 100 iterations with train-rmse = 191075.834375 val-rmse = 191074.003125\n",
      "| \u001b[0m 69      \u001b[0m | \u001b[0m-1.911e+0\u001b[0m | \u001b[0m 0.3575  \u001b[0m | \u001b[0m 4.296   \u001b[0m | \u001b[0m 53.25   \u001b[0m | \u001b[0m 5.433   \u001b[0m | \u001b[0m 0.1709  \u001b[0m | \u001b[0m 8.407   \u001b[0m | \u001b[0m 6.954   \u001b[0m | \u001b[0m 3.538   \u001b[0m | \u001b[0m 664.7   \u001b[0m | \u001b[0m 12.01   \u001b[0m | \u001b[0m 0.415   \u001b[0m |\n",
      "Stopped after 100 iterations with train-rmse = 58705.295313 val-rmse = 58769.588281\n",
      "| \u001b[0m 70      \u001b[0m | \u001b[0m-5.877e+0\u001b[0m | \u001b[0m 0.1347  \u001b[0m | \u001b[0m 1.241   \u001b[0m | \u001b[0m 45.92   \u001b[0m | \u001b[0m 17.82   \u001b[0m | \u001b[0m 0.01534 \u001b[0m | \u001b[0m 958.2   \u001b[0m | \u001b[0m 0.8643  \u001b[0m | \u001b[0m 14.42   \u001b[0m | \u001b[0m 91.29   \u001b[0m | \u001b[0m 16.6    \u001b[0m | \u001b[0m 0.1843  \u001b[0m |\n",
      "Stopped after 100 iterations with train-rmse = 191100.053125 val-rmse = 191098.212500\n",
      "| \u001b[0m 71      \u001b[0m | \u001b[0m-1.911e+0\u001b[0m | \u001b[0m 0.9894  \u001b[0m | \u001b[0m 3.006   \u001b[0m | \u001b[0m 91.5    \u001b[0m | \u001b[0m 42.35   \u001b[0m | \u001b[0m 0.1094  \u001b[0m | \u001b[0m 1.002e+0\u001b[0m | \u001b[0m 7.538   \u001b[0m | \u001b[0m 3.73    \u001b[0m | \u001b[0m 717.8   \u001b[0m | \u001b[0m 9.957   \u001b[0m | \u001b[0m 0.1534  \u001b[0m |\n",
      "Stopped after 100 iterations with train-rmse = 33886.909375 val-rmse = 34906.491406\n",
      "| \u001b[95m 72      \u001b[0m | \u001b[95m-3.491e+0\u001b[0m | \u001b[95m 0.8833  \u001b[0m | \u001b[95m 1.766   \u001b[0m | \u001b[95m 70.28   \u001b[0m | \u001b[95m 41.18   \u001b[0m | \u001b[95m 0.09193 \u001b[0m | \u001b[95m 484.9   \u001b[0m | \u001b[95m 0.4253  \u001b[0m | \u001b[95m 6.224   \u001b[0m | \u001b[95m 932.9   \u001b[0m | \u001b[95m 6.998   \u001b[0m | \u001b[95m 0.1392  \u001b[0m |\n",
      "Stopped after 100 iterations with train-rmse = 191154.337500 val-rmse = 191152.562500\n",
      "| \u001b[0m 73      \u001b[0m | \u001b[0m-1.912e+0\u001b[0m | \u001b[0m 0.1627  \u001b[0m | \u001b[0m 1.69    \u001b[0m | \u001b[0m 64.97   \u001b[0m | \u001b[0m 2.53    \u001b[0m | \u001b[0m 0.09128 \u001b[0m | \u001b[0m 15.06   \u001b[0m | \u001b[0m 2.143   \u001b[0m | \u001b[0m 7.746   \u001b[0m | \u001b[0m 654.8   \u001b[0m | \u001b[0m 19.02   \u001b[0m | \u001b[0m 0.6401  \u001b[0m |\n",
      "Stopped after 100 iterations with train-rmse = 30905.835156 val-rmse = 36025.422656\n",
      "| \u001b[0m 74      \u001b[0m | \u001b[0m-3.603e+0\u001b[0m | \u001b[0m 0.5034  \u001b[0m | \u001b[0m 3.0     \u001b[0m | \u001b[0m 60.99   \u001b[0m | \u001b[0m 2.227   \u001b[0m | \u001b[0m 0.1595  \u001b[0m | \u001b[0m 26.13   \u001b[0m | \u001b[0m 0.4987  \u001b[0m | \u001b[0m 9.695   \u001b[0m | \u001b[0m 673.9   \u001b[0m | \u001b[0m 17.16   \u001b[0m | \u001b[0m 0.2704  \u001b[0m |\n",
      "Stopped after 100 iterations with train-rmse = 191076.312500 val-rmse = 191074.478125\n",
      "| \u001b[0m 75      \u001b[0m | \u001b[0m-1.911e+0\u001b[0m | \u001b[0m 0.3999  \u001b[0m | \u001b[0m 6.687   \u001b[0m | \u001b[0m 64.82   \u001b[0m | \u001b[0m 9.074   \u001b[0m | \u001b[0m 0.1134  \u001b[0m | \u001b[0m 1.002e+0\u001b[0m | \u001b[0m 9.236   \u001b[0m | \u001b[0m 11.49   \u001b[0m | \u001b[0m 18.22   \u001b[0m | \u001b[0m 11.86   \u001b[0m | \u001b[0m 0.7118  \u001b[0m |\n",
      "Stopped after 100 iterations with train-rmse = 191075.425000 val-rmse = 191073.565625\n",
      "| \u001b[0m 76      \u001b[0m | \u001b[0m-1.911e+0\u001b[0m | \u001b[0m 0.5631  \u001b[0m | \u001b[0m 8.533   \u001b[0m | \u001b[0m 68.83   \u001b[0m | \u001b[0m 32.54   \u001b[0m | \u001b[0m 0.1288  \u001b[0m | \u001b[0m 496.9   \u001b[0m | \u001b[0m 8.479   \u001b[0m | \u001b[0m 5.261   \u001b[0m | \u001b[0m 934.8   \u001b[0m | \u001b[0m 10.38   \u001b[0m | \u001b[0m 0.1293  \u001b[0m |\n",
      "=============================================================================================================================================================\n"
     ]
    }
   ],
   "source": [
    "print('-'*130)\n",
    "print('-'*130, file=log_file)\n",
    "log_file.flush()\n",
    "\n",
    "with warnings.catch_warnings():\n",
    "    warnings.filterwarnings('ignore')\n",
    "    XGB_BO.maximize(init_points=2, n_iter=50)"
   ]
  },
  {
   "cell_type": "code",
   "execution_count": 75,
   "metadata": {},
   "outputs": [
    {
     "data": {
      "text/plain": [
       "{'target': -34906.491406400004,\n",
       " 'params': {'colsample_bytree': 0.8832635679721044,\n",
       "  'gamma': 1.7659450508306334,\n",
       "  'lambda1': 70.27689014791974,\n",
       "  'lambda2': 41.17989096578065,\n",
       "  'learning_rate': 0.09192742232542225,\n",
       "  'max_bin': 484.929853363818,\n",
       "  'max_delta_step': 0.4252788214274317,\n",
       "  'max_depth': 6.223921658901861,\n",
       "  'max_leaves': 932.853965644163,\n",
       "  'min_child_weight': 6.997838154971065,\n",
       "  'subsample': 0.13915515897442735}}"
      ]
     },
     "execution_count": 75,
     "metadata": {},
     "output_type": "execute_result"
    }
   ],
   "source": [
    "XGB_BO.max"
   ]
  },
  {
   "cell_type": "code",
   "execution_count": 16,
   "metadata": {},
   "outputs": [],
   "source": [
    "from xgboost import XGBRegressor\n",
    "\n",
    "model = XGBRegressor(\n",
    "    n_estimators=100,\n",
    "    objective='reg:squarederror',\n",
    "    eval_metric=['rmse', 'mae'],\n",
    "    booster='gbtree',\n",
    "    eta=0.09192742232542225,\n",
    "    gamma=1.7659450508306334,\n",
    "    max_depth=6,\n",
    "    min_child_weight=6.997838154971065,\n",
    "    max_delta_step=0,\n",
    "    subsample=0.13915515897442735,\n",
    "    colsample_bytree=0.8832635679721044,\n",
    "    reg_alpha=70.27689014791974,\n",
    "    reg_lambda=41.17989096578065,\n",
    "    max_leaves=932,\n",
    "    max_bin=484,\n",
    "    n_jobs=-1,\n",
    "    random_state=1,\n",
    ")"
   ]
  },
  {
   "cell_type": "code",
   "execution_count": 17,
   "metadata": {},
   "outputs": [],
   "source": [
    "eval_set = [(X_train, y_train), (X_test, y_test)]"
   ]
  },
  {
   "cell_type": "code",
   "execution_count": 18,
   "metadata": {},
   "outputs": [
    {
     "data": {
      "text/plain": [
       "XGBRegressor(base_score=0.5, booster='gbtree', colsample_bylevel=1,\n",
       "             colsample_bynode=1, colsample_bytree=0.8832635679721044,\n",
       "             eta=0.09192742232542225, eval_metric=['rmse', 'mae'],\n",
       "             gamma=1.7659450508306334, gpu_id=-1, importance_type='gain',\n",
       "             interaction_constraints='', learning_rate=0.0919274241,\n",
       "             max_bin=484, max_delta_step=0, max_depth=6, max_leaves=932,\n",
       "             min_child_weight=6.997838154971065, missing=nan,\n",
       "             monotone_constraints='()', n_estimators=100, n_jobs=-1,\n",
       "             num_parallel_tree=1, random_state=1, reg_alpha=70.27689014791974,\n",
       "             reg_lambda=41.17989096578065, scale_pos_weight=1,\n",
       "             subsample=0.13915515897442735, tree_method='exact',\n",
       "             validate_parameters=1, verbosity=None)"
      ]
     },
     "execution_count": 18,
     "metadata": {},
     "output_type": "execute_result"
    }
   ],
   "source": [
    "model.fit(X_train, y_train, eval_set=eval_set, verbose=0)"
   ]
  },
  {
   "cell_type": "code",
   "execution_count": 19,
   "metadata": {},
   "outputs": [],
   "source": [
    "results = model.evals_result()"
   ]
  },
  {
   "cell_type": "code",
   "execution_count": 21,
   "metadata": {},
   "outputs": [],
   "source": [
    "y_pred = model.predict(X_test)"
   ]
  },
  {
   "cell_type": "markdown",
   "metadata": {},
   "source": [
    "<a id='analysis' />\n",
    "\n",
    "### 3. Model Analysis"
   ]
  },
  {
   "cell_type": "code",
   "execution_count": 36,
   "metadata": {},
   "outputs": [],
   "source": [
    "sorted_idx = model.feature_importances_.argsort()\n",
    "cols = np.array(X.columns)[sorted_idx]\n",
    "imp_values = model.feature_importances_[sorted_idx]"
   ]
  },
  {
   "cell_type": "markdown",
   "metadata": {},
   "source": [
    "Based on feature importance, overall quality and bath area of the properties are the main predictors of the sale price"
   ]
  },
  {
   "cell_type": "code",
   "execution_count": 39,
   "metadata": {},
   "outputs": [
    {
     "data": {
      "image/png": "[encoded data removed]",
      "text/plain": [
       "<Figure size 504x1080 with 1 Axes>"
      ]
     },
     "metadata": {
      "needs_background": "light"
     },
     "output_type": "display_data"
    }
   ],
   "source": [
    "import matplotlib.pyplot as plt\n",
    "\n",
    "plt.rcParams[\"figure.figsize\"] = (7,15)\n",
    "fig = plt.barh(cols, imp_values)\n",
    "plt.title('Feature importance')\n",
    "plt.tight_layout()"
   ]
  },
  {
   "cell_type": "markdown",
   "metadata": {},
   "source": [
    "We can confirm positive associations between the sale price and those two variables in the following plots"
   ]
  },
  {
   "cell_type": "code",
   "execution_count": 47,
   "metadata": {},
   "outputs": [
    {
     "data": {
      "text/plain": [
       "Text(0.5, 0, 'Bath area')"
      ]
     },
     "execution_count": 47,
     "metadata": {},
     "output_type": "execute_result"
    },
    {
     "data": {
      "image/png": "[encoded data removed]",
      "text/plain": [
       "<Figure size 1080x360 with 2 Axes>"
      ]
     },
     "metadata": {
      "needs_background": "light"
     },
     "output_type": "display_data"
    }
   ],
   "source": [
    "plt.rcParams[\"figure.figsize\"] = (15,5)\n",
    "\n",
    "plt.subplot(1, 2, 1)\n",
    "plt.scatter(df.overall_quality, df.sale_price)\n",
    "plt.title('Overall house quality vs sale price')\n",
    "plt.ylabel('Sale price')\n",
    "plt.xlabel('Overall quality')\n",
    "\n",
    "plt.subplot(1, 2, 2)\n",
    "plt.scatter(df.bath_area, df.sale_price)\n",
    "plt.title('Bath area vs sale price')\n",
    "plt.ylabel('Sale price')\n",
    "plt.xlabel('Bath area')"
   ]
  },
  {
   "cell_type": "markdown",
   "metadata": {},
   "source": [
    "Looking at the rest of the important features, we can observe that they are also strongly correlated to the sale price. As expected, property area, garage area and spaciousness correlate positively to the sale price, while house age has a negative impact on the price."
   ]
  },
  {
   "cell_type": "code",
   "execution_count": 56,
   "metadata": {},
   "outputs": [
    {
     "data": {
      "text/plain": [
       "Text(0.5, 0, 'Spaciousness')"
      ]
     },
     "execution_count": 56,
     "metadata": {},
     "output_type": "execute_result"
    },
    {
     "data": {
      "image/png": "[encoded data removed]",
      "text/plain": [
       "<Figure size 1080x792 with 4 Axes>"
      ]
     },
     "metadata": {
      "needs_background": "light"
     },
     "output_type": "display_data"
    }
   ],
   "source": [
    "plt.rcParams[\"figure.figsize\"] = (15,11)\n",
    "\n",
    "plt.subplot(2, 2, 1)\n",
    "plt.scatter(df.property_area, df.sale_price)\n",
    "plt.title('Property area vs sale price')\n",
    "plt.ylabel('Sale price')\n",
    "plt.xlabel('Property area')\n",
    "\n",
    "plt.subplot(2, 2, 2)\n",
    "plt.scatter(df.house_age, df.sale_price)\n",
    "plt.title('House age vs sale price')\n",
    "plt.ylabel('Sale price')\n",
    "plt.xlabel('House age')\n",
    "\n",
    "plt.subplot(2, 2, 3)\n",
    "plt.scatter(df.garage_area, df.sale_price)\n",
    "plt.title('Garage area vs sale price')\n",
    "plt.ylabel('Sale price')\n",
    "plt.xlabel('Garage area')\n",
    "\n",
    "plt.subplot(2, 2, 4)\n",
    "plt.scatter(df.spaciousness, df.sale_price)\n",
    "plt.title('Spaciousness vs sale price')\n",
    "plt.ylabel('Sale price')\n",
    "plt.xlabel('Spaciousness')"
   ]
  },
  {
   "cell_type": "markdown",
   "metadata": {},
   "source": [
    "Finally, we plot all the correlation coefficients that confirm what we observed in the graphs"
   ]
  },
  {
   "cell_type": "code",
   "execution_count": 63,
   "metadata": {},
   "outputs": [],
   "source": [
    "numeric_cols = [\n",
    "    'sale_price', 'overall_condition', 'liv_lot_ratio', \n",
    "    'remodel_age', 'garage_age', 'bsmt_area',\n",
    "    'spaciousness', 'garage_area', 'house_age',\n",
    "    'property_area', 'bath_area', 'overall_quality'\n",
    "]\n",
    "correlations = df[numeric_cols].corr()['sale_price'].sort_values(ascending=False)"
   ]
  },
  {
   "cell_type": "code",
   "execution_count": 64,
   "metadata": {},
   "outputs": [
    {
     "data": {
      "text/plain": [
       "sale_price           1.000000\n",
       "overall_quality      0.798240\n",
       "bath_area            0.708489\n",
       "property_area        0.703008\n",
       "garage_area          0.667862\n",
       "spaciousness         0.600601\n",
       "bsmt_area            0.509558\n",
       "liv_lot_ratio       -0.046280\n",
       "overall_condition   -0.268677\n",
       "house_age           -0.569701\n",
       "garage_age          -0.576104\n",
       "remodel_age         -0.580351\n",
       "Name: sale_price, dtype: float64"
      ]
     },
     "execution_count": 64,
     "metadata": {},
     "output_type": "execute_result"
    }
   ],
   "source": [
    "correlations"
   ]
  },
  {
   "cell_type": "code",
   "execution_count": null,
   "metadata": {},
   "outputs": [],
   "source": []
  }
 ],
 "metadata": {
  "kernelspec": {
   "display_name": "Python 3.8.5 ('base')",
   "language": "python",
   "name": "python3"
  },
  "language_info": {
   "codemirror_mode": {
    "name": "ipython",
    "version": 3
   },
   "file_extension": ".py",
   "mimetype": "text/x-python",
   "name": "python",
   "nbconvert_exporter": "python",
   "pygments_lexer": "ipython3",
   "version": "3.8.5"
  },
  "orig_nbformat": 4,
  "vscode": {
   "interpreter": {
    "hash": "4406ea31cdf9857eb4429f9ef0595ec2e3b9f71979a24e3f6d87669e7dbf13d2"
   }
  }
 },
 "nbformat": 4,
 "nbformat_minor": 2
}
